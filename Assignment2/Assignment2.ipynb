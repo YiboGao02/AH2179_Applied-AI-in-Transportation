{
 "cells": [
  {
   "cell_type": "markdown",
   "metadata": {},
   "source": [
    "Assignment task - find the best test classification model for the sentimental analysis"
   ]
  },
  {
   "cell_type": "code",
   "execution_count": 1,
   "metadata": {
    "colab": {
     "base_uri": "https://localhost:8080/",
     "height": 174
    },
    "id": "k9RYH5vPJCil",
    "outputId": "722a3e5f-d879-46a6-b7b2-b6ee1752509a"
   },
   "outputs": [
    {
     "data": {
      "text/html": [
       "<div>\n",
       "<style scoped>\n",
       "    .dataframe tbody tr th:only-of-type {\n",
       "        vertical-align: middle;\n",
       "    }\n",
       "\n",
       "    .dataframe tbody tr th {\n",
       "        vertical-align: top;\n",
       "    }\n",
       "\n",
       "    .dataframe thead th {\n",
       "        text-align: right;\n",
       "    }\n",
       "</style>\n",
       "<table border=\"1\" class=\"dataframe\">\n",
       "  <thead>\n",
       "    <tr style=\"text-align: right;\">\n",
       "      <th></th>\n",
       "      <th>autumn</th>\n",
       "      <th>birds</th>\n",
       "      <th>breeze</th>\n",
       "      <th>brightly</th>\n",
       "      <th>chirp</th>\n",
       "      <th>clear</th>\n",
       "      <th>early</th>\n",
       "      <th>gentle</th>\n",
       "      <th>leaves</th>\n",
       "      <th>meadow</th>\n",
       "      <th>morning</th>\n",
       "      <th>night</th>\n",
       "      <th>quiet</th>\n",
       "      <th>rustles</th>\n",
       "      <th>sets</th>\n",
       "      <th>sky</th>\n",
       "      <th>softly</th>\n",
       "      <th>stars</th>\n",
       "      <th>sun</th>\n",
       "      <th>twinkle</th>\n",
       "    </tr>\n",
       "  </thead>\n",
       "  <tbody>\n",
       "    <tr>\n",
       "      <th>Line 1</th>\n",
       "      <td>0</td>\n",
       "      <td>0</td>\n",
       "      <td>0</td>\n",
       "      <td>0</td>\n",
       "      <td>0</td>\n",
       "      <td>0</td>\n",
       "      <td>0</td>\n",
       "      <td>0</td>\n",
       "      <td>0</td>\n",
       "      <td>1</td>\n",
       "      <td>0</td>\n",
       "      <td>0</td>\n",
       "      <td>1</td>\n",
       "      <td>0</td>\n",
       "      <td>1</td>\n",
       "      <td>0</td>\n",
       "      <td>0</td>\n",
       "      <td>0</td>\n",
       "      <td>1</td>\n",
       "      <td>0</td>\n",
       "    </tr>\n",
       "    <tr>\n",
       "      <th>Line 2</th>\n",
       "      <td>0</td>\n",
       "      <td>1</td>\n",
       "      <td>0</td>\n",
       "      <td>0</td>\n",
       "      <td>1</td>\n",
       "      <td>0</td>\n",
       "      <td>1</td>\n",
       "      <td>0</td>\n",
       "      <td>0</td>\n",
       "      <td>0</td>\n",
       "      <td>1</td>\n",
       "      <td>0</td>\n",
       "      <td>0</td>\n",
       "      <td>0</td>\n",
       "      <td>0</td>\n",
       "      <td>0</td>\n",
       "      <td>1</td>\n",
       "      <td>0</td>\n",
       "      <td>0</td>\n",
       "      <td>0</td>\n",
       "    </tr>\n",
       "    <tr>\n",
       "      <th>Line 3</th>\n",
       "      <td>1</td>\n",
       "      <td>0</td>\n",
       "      <td>1</td>\n",
       "      <td>0</td>\n",
       "      <td>0</td>\n",
       "      <td>0</td>\n",
       "      <td>0</td>\n",
       "      <td>1</td>\n",
       "      <td>1</td>\n",
       "      <td>0</td>\n",
       "      <td>0</td>\n",
       "      <td>0</td>\n",
       "      <td>0</td>\n",
       "      <td>1</td>\n",
       "      <td>0</td>\n",
       "      <td>0</td>\n",
       "      <td>0</td>\n",
       "      <td>0</td>\n",
       "      <td>0</td>\n",
       "      <td>0</td>\n",
       "    </tr>\n",
       "    <tr>\n",
       "      <th>Line 4</th>\n",
       "      <td>0</td>\n",
       "      <td>0</td>\n",
       "      <td>0</td>\n",
       "      <td>1</td>\n",
       "      <td>0</td>\n",
       "      <td>1</td>\n",
       "      <td>0</td>\n",
       "      <td>0</td>\n",
       "      <td>0</td>\n",
       "      <td>0</td>\n",
       "      <td>0</td>\n",
       "      <td>1</td>\n",
       "      <td>0</td>\n",
       "      <td>0</td>\n",
       "      <td>0</td>\n",
       "      <td>1</td>\n",
       "      <td>0</td>\n",
       "      <td>1</td>\n",
       "      <td>0</td>\n",
       "      <td>1</td>\n",
       "    </tr>\n",
       "  </tbody>\n",
       "</table>\n",
       "</div>"
      ],
      "text/plain": [
       "        autumn  birds  breeze  brightly  chirp  clear  early  gentle  leaves  \\\n",
       "Line 1       0      0       0         0      0      0      0       0       0   \n",
       "Line 2       0      1       0         0      1      0      1       0       0   \n",
       "Line 3       1      0       1         0      0      0      0       1       1   \n",
       "Line 4       0      0       0         1      0      1      0       0       0   \n",
       "\n",
       "        meadow  morning  night  quiet  rustles  sets  sky  softly  stars  sun  \\\n",
       "Line 1       1        0      0      1        0     1    0       0      0    1   \n",
       "Line 2       0        1      0      0        0     0    0       1      0    0   \n",
       "Line 3       0        0      0      0        1     0    0       0      0    0   \n",
       "Line 4       0        0      1      0        0     0    1       0      1    0   \n",
       "\n",
       "        twinkle  \n",
       "Line 1        0  \n",
       "Line 2        0  \n",
       "Line 3        0  \n",
       "Line 4        1  "
      ]
     },
     "execution_count": 1,
     "metadata": {},
     "output_type": "execute_result"
    }
   ],
   "source": [
    "import pandas as pd\n",
    "from sklearn.feature_extraction.text import CountVectorizer\n",
    "\n",
    "# Define the text\n",
    "lines = [\n",
    "    'The sun sets over the quiet meadow.',\n",
    "    'Birds chirp softly in the early morning.',\n",
    "    'A gentle breeze rustles the autumn leaves.',\n",
    "    'Stars twinkle brightly in the clear night sky.'\n",
    "]\n",
    "\n",
    "# Creat the CountVectorizer instance, the stop_words parameter is set to \"english\"\n",
    "# to remove common English stop words like \"and\", \"the\", and \"a\"\n",
    "vectorizer = CountVectorizer(stop_words='english')\n",
    "\n",
    "# Convert the text to vectorizer\n",
    "word_matrix = vectorizer.fit_transform(lines)\n",
    "\n",
    "# The get_feature_names_out method is used to get the feature names \n",
    "# (i.e., the individual words) in the word matrix\n",
    "feature_names = vectorizer.get_feature_names_out()\n",
    "\n",
    "# The line_names list is created to store the names of each line in the original\n",
    "# list of strings\n",
    "line_names = [f'Line {(i + 1):d}' for i, _ in enumerate(word_matrix)]\n",
    "\n",
    "# A Pandas DataFrame is created using the word_matrix.toarray() method to convert \n",
    "# the sparse matrix to a dense array\n",
    "df = pd.DataFrame(data=word_matrix.toarray(), index=line_names,columns=feature_names)\n",
    "\n",
    "# The head() method is called on the resulting DataFrame to display the first few \n",
    "# rows of the matrix\n",
    "df.head()"
   ]
  },
  {
   "cell_type": "markdown",
   "metadata": {
    "id": "ML9PdR8XDsFe"
   },
   "source": [
    "Load the dataset:"
   ]
  },
  {
   "cell_type": "code",
   "execution_count": 2,
   "metadata": {
    "colab": {
     "base_uri": "https://localhost:8080/",
     "height": 206
    },
    "id": "AfQiWf5WJd5_",
    "outputId": "88f5c4a1-639f-41f0-f6cf-be6309033e8a"
   },
   "outputs": [
    {
     "data": {
      "text/html": [
       "<div>\n",
       "<style scoped>\n",
       "    .dataframe tbody tr th:only-of-type {\n",
       "        vertical-align: middle;\n",
       "    }\n",
       "\n",
       "    .dataframe tbody tr th {\n",
       "        vertical-align: top;\n",
       "    }\n",
       "\n",
       "    .dataframe thead th {\n",
       "        text-align: right;\n",
       "    }\n",
       "</style>\n",
       "<table border=\"1\" class=\"dataframe\">\n",
       "  <thead>\n",
       "    <tr style=\"text-align: right;\">\n",
       "      <th></th>\n",
       "      <th>Text</th>\n",
       "      <th>Sentiment</th>\n",
       "    </tr>\n",
       "  </thead>\n",
       "  <tbody>\n",
       "    <tr>\n",
       "      <th>0</th>\n",
       "      <td>Adayala road is clear</td>\n",
       "      <td>0</td>\n",
       "    </tr>\n",
       "    <tr>\n",
       "      <th>1</th>\n",
       "      <td>Traffic jam from parbat rd to nazim-ud-din rd ...</td>\n",
       "      <td>1</td>\n",
       "    </tr>\n",
       "    <tr>\n",
       "      <th>2</th>\n",
       "      <td>Mandra is clear</td>\n",
       "      <td>0</td>\n",
       "    </tr>\n",
       "    <tr>\n",
       "      <th>3</th>\n",
       "      <td>Fort street is clear</td>\n",
       "      <td>0</td>\n",
       "    </tr>\n",
       "    <tr>\n",
       "      <th>4</th>\n",
       "      <td>Mashriq Hotel towards Fawara Chowk, City Sadda...</td>\n",
       "      <td>1</td>\n",
       "    </tr>\n",
       "  </tbody>\n",
       "</table>\n",
       "</div>"
      ],
      "text/plain": [
       "                                                Text  Sentiment\n",
       "0                              Adayala road is clear          0\n",
       "1  Traffic jam from parbat rd to nazim-ud-din rd ...          1\n",
       "2                                    Mandra is clear          0\n",
       "3                               Fort street is clear          0\n",
       "4  Mashriq Hotel towards Fawara Chowk, City Sadda...          1"
      ]
     },
     "execution_count": 2,
     "metadata": {},
     "output_type": "execute_result"
    }
   ],
   "source": [
    "import pandas as pd\n",
    "import os\n",
    "\n",
    "# The path of the dataset\n",
    "url = 'https://raw.githubusercontent.com/zhenliangma/Applied-AI-in-Transportation/master/Exercise_4_Text_classification/Pakistani%20Traffic%20sentiment%20Analysis.csv'\n",
    "\n",
    "# Load the data use the pandas\n",
    "df = pd.read_csv(url)\n",
    "\n",
    "# Display the data\n",
    "df.head()"
   ]
  },
  {
   "cell_type": "markdown",
   "metadata": {
    "id": "QAQmaPfQvRxC"
   },
   "source": [
    "Print a brief summary of the dataset"
   ]
  },
  {
   "cell_type": "code",
   "execution_count": 3,
   "metadata": {
    "colab": {
     "base_uri": "https://localhost:8080/"
    },
    "id": "UBLWDMJOJ4l9",
    "outputId": "c281ae52-7135-4732-bd36-ce57d1d12b0f"
   },
   "outputs": [
    {
     "name": "stdout",
     "output_type": "stream",
     "text": [
      "<class 'pandas.core.frame.DataFrame'>\n",
      "RangeIndex: 2109 entries, 0 to 2108\n",
      "Data columns (total 2 columns):\n",
      " #   Column     Non-Null Count  Dtype \n",
      "---  ------     --------------  ----- \n",
      " 0   Text       2109 non-null   object\n",
      " 1   Sentiment  2109 non-null   int64 \n",
      "dtypes: int64(1), object(1)\n",
      "memory usage: 33.1+ KB\n"
     ]
    }
   ],
   "source": [
    "df.info()"
   ]
  },
  {
   "cell_type": "code",
   "execution_count": 4,
   "metadata": {
    "colab": {
     "base_uri": "https://localhost:8080/",
     "height": 174
    },
    "id": "HVbOJxjWKNOF",
    "outputId": "f278ae7d-623d-4075-a26b-093c16f51a46"
   },
   "outputs": [
    {
     "data": {
      "text/html": [
       "<div>\n",
       "<style scoped>\n",
       "    .dataframe tbody tr th:only-of-type {\n",
       "        vertical-align: middle;\n",
       "    }\n",
       "\n",
       "    .dataframe tbody tr th {\n",
       "        vertical-align: top;\n",
       "    }\n",
       "\n",
       "    .dataframe thead tr th {\n",
       "        text-align: left;\n",
       "    }\n",
       "\n",
       "    .dataframe thead tr:last-of-type th {\n",
       "        text-align: right;\n",
       "    }\n",
       "</style>\n",
       "<table border=\"1\" class=\"dataframe\">\n",
       "  <thead>\n",
       "    <tr>\n",
       "      <th></th>\n",
       "      <th colspan=\"4\" halign=\"left\">Text</th>\n",
       "    </tr>\n",
       "    <tr>\n",
       "      <th></th>\n",
       "      <th>count</th>\n",
       "      <th>unique</th>\n",
       "      <th>top</th>\n",
       "      <th>freq</th>\n",
       "    </tr>\n",
       "    <tr>\n",
       "      <th>Sentiment</th>\n",
       "      <th></th>\n",
       "      <th></th>\n",
       "      <th></th>\n",
       "      <th></th>\n",
       "    </tr>\n",
       "  </thead>\n",
       "  <tbody>\n",
       "    <tr>\n",
       "      <th>0</th>\n",
       "      <td>1008</td>\n",
       "      <td>1008</td>\n",
       "      <td>Adayala road is clear</td>\n",
       "      <td>1</td>\n",
       "    </tr>\n",
       "    <tr>\n",
       "      <th>1</th>\n",
       "      <td>1079</td>\n",
       "      <td>1079</td>\n",
       "      <td>Traffic jam from parbat rd to nazim-ud-din rd ...</td>\n",
       "      <td>1</td>\n",
       "    </tr>\n",
       "  </tbody>\n",
       "</table>\n",
       "</div>"
      ],
      "text/plain": [
       "           Text                                                               \n",
       "          count unique                                                top freq\n",
       "Sentiment                                                                     \n",
       "0          1008   1008                              Adayala road is clear    1\n",
       "1          1079   1079  Traffic jam from parbat rd to nazim-ud-din rd ...    1"
      ]
     },
     "execution_count": 4,
     "metadata": {},
     "output_type": "execute_result"
    }
   ],
   "source": [
    "# Delete the duplicate rows\n",
    "df = df.drop_duplicates()\n",
    "\n",
    "# Displaying the instances of each class\n",
    "df.groupby('Sentiment').describe()"
   ]
  },
  {
   "cell_type": "markdown",
   "metadata": {
    "id": "JzZoGbwfKbet"
   },
   "source": [
    "Now there are no duplicate rows, and the number of positive and negative samples is roughly equal.\n",
    "\n",
    "Next, use CountVectorizer to prepare and vectorize the text in the Text column:"
   ]
  },
  {
   "cell_type": "code",
   "execution_count": 5,
   "metadata": {
    "id": "Zs4JUPApKWBF"
   },
   "outputs": [],
   "source": [
    "# Convert the text to vectorizer\n",
    "x = df['Text']\n",
    "\n",
    "# Obtain the label\n",
    "y = df['Sentiment']"
   ]
  },
  {
   "cell_type": "markdown",
   "metadata": {
    "id": "87hPPRRFKq-O"
   },
   "source": [
    "split the dataset"
   ]
  },
  {
   "cell_type": "code",
   "execution_count": 6,
   "metadata": {
    "id": "yiVsNkZzKeVO"
   },
   "outputs": [],
   "source": [
    "from sklearn.model_selection import train_test_split\n",
    "\n",
    "# Splite the train and test data\n",
    "x_train, x_test, y_train, y_test = train_test_split(x, y, test_size=0.2, random_state=0)"
   ]
  },
  {
   "cell_type": "code",
   "execution_count": 7,
   "metadata": {},
   "outputs": [],
   "source": [
    "from sklearn.feature_extraction.text import CountVectorizer\n",
    "\n",
    "# Create the CountVectorizer instance, the ngram_range represents the length range \n",
    "# of phrase segmentation,the stop_words parameter is set to \"english\" to remove \n",
    "# common English stop words like \"and\", \"the\", and \"a\", min_df is to serve as a \n",
    "# threshold to delete some words which have a frequency lower then min_df.\n",
    "vectorizer = CountVectorizer(ngram_range=(1, 2), stop_words='english', min_df=20)\n",
    "\n",
    "x_train_vectorized = vectorizer.fit_transform(x_train)\n",
    "x_test_vectorized = vectorizer.transform(x_test)"
   ]
  },
  {
   "cell_type": "markdown",
   "metadata": {
    "id": "ZX8kyPqfDsFh"
   },
   "source": [
    "Task 1 - Find the best vectorization method"
   ]
  },
  {
   "cell_type": "markdown",
   "metadata": {},
   "source": [
    "1. CountVectorizer"
   ]
  },
  {
   "cell_type": "code",
   "execution_count": 27,
   "metadata": {
    "colab": {
     "base_uri": "https://localhost:8080/",
     "height": 516
    },
    "id": "Wki8RaErDsFh",
    "outputId": "68423a0c-8782-48f7-e355-e947c1ea0d24"
   },
   "outputs": [
    {
     "name": "stdout",
     "output_type": "stream",
     "text": [
      "The accuracy of the model is: 0.937799043062201\n",
      "Classification Report:\n",
      "              precision    recall  f1-score   support\n",
      "\n",
      "    Positive       0.90      0.98      0.94       211\n",
      "    Negative       0.98      0.89      0.93       207\n",
      "\n",
      "    accuracy                           0.94       418\n",
      "   macro avg       0.94      0.94      0.94       418\n",
      "weighted avg       0.94      0.94      0.94       418\n",
      "\n"
     ]
    },
    {
     "data": {
      "image/png": "[encoded data removed]",
      "text/plain": [
       "<Figure size 640x480 with 2 Axes>"
      ]
     },
     "metadata": {},
     "output_type": "display_data"
    }
   ],
   "source": [
    "import pandas as pd\n",
    "from sklearn.feature_extraction.text import CountVectorizer\n",
    "from sklearn.feature_extraction.text import TfidfVectorizer\n",
    "from sklearn.feature_extraction.text import HashingVectorizer\n",
    "from sklearn.linear_model import LogisticRegression\n",
    "from sklearn.metrics import accuracy_score\n",
    "from sklearn.model_selection import train_test_split\n",
    "%matplotlib inline\n",
    "from sklearn.metrics import ConfusionMatrixDisplay as cmd\n",
    "from sklearn.metrics import classification_report\n",
    "import os\n",
    "\n",
    "# here you can try use different vectorization methods (Attention! uncomment the\n",
    "# method you want to test, and comment out the other methods)\n",
    "#-*-*-*-*-*-*chose different vectorization-*-*-*-*-*-*\n",
    "\n",
    "#(1) CountVectorizer\n",
    "vectorizer = CountVectorizer(ngram_range=(1, 2), stop_words='english', min_df=20)\n",
    "\n",
    "#(2) #HashingVectorizer\n",
    "# vectorizer = HashingVectorizer(ngram_range=(1, 2), n_features=200)\n",
    "\n",
    "#(3)TfidfVectorizer\n",
    "# vectorizer = TfidfVectorizer(\n",
    "#     min_df=20,\n",
    "#     norm='l2',\n",
    "#     smooth_idf=True,\n",
    "#     use_idf=True,\n",
    "#     ngram_range=(1, 2),\n",
    "#     stop_words='english'\n",
    "#     )\n",
    "\n",
    "#-*-*-*-*-*-*chose different vectorization-*-*-*-*-*-*\n",
    "x = df['Text']\n",
    "y = df['Sentiment']\n",
    "x_train, x_test, y_train, y_test = train_test_split(x, y, test_size=0.2, random_state=0)\n",
    "\n",
    "# apply the vectorizers\n",
    "x_train_vectorized = vectorizer.fit_transform(x_train)\n",
    "x_test_vectorized = vectorizer.transform(x_test)\n",
    "\n",
    "model = LogisticRegression(max_iter=1000, random_state=0)\n",
    "model.fit(x_train_vectorized, y_train)\n",
    "\n",
    "y_pred = model.predict(x_test_vectorized)\n",
    "\n",
    "cmd.from_estimator(\n",
    "    model, \n",
    "    x_test_vectorized, \n",
    "    y_test, \n",
    "    display_labels=['Positive','Negative'], \n",
    "    cmap='Blues', \n",
    "    xticks_rotation='vertical'\n",
    "    )\n",
    "\n",
    "#calculate accuracy\n",
    "print('The accuracy of the model is: '+str(accuracy_score(y_test, y_pred)))\n",
    "\n",
    "\n",
    "print(\"Classification Report:\")\n",
    "print(classification_report(y_test, y_pred, target_names=['Positive', 'Negative']))"
   ]
  },
  {
   "cell_type": "markdown",
   "metadata": {},
   "source": [
    "2. HashingVectorizer"
   ]
  },
  {
   "cell_type": "code",
   "execution_count": 12,
   "metadata": {},
   "outputs": [
    {
     "name": "stdout",
     "output_type": "stream",
     "text": [
      "The accuracy of the model is: 0.9545454545454546\n",
      "Classification Report:\n",
      "              precision    recall  f1-score   support\n",
      "\n",
      "    Positive       0.94      0.97      0.96       211\n",
      "    Negative       0.97      0.94      0.95       207\n",
      "\n",
      "    accuracy                           0.95       418\n",
      "   macro avg       0.96      0.95      0.95       418\n",
      "weighted avg       0.96      0.95      0.95       418\n",
      "\n"
     ]
    },
    {
     "data": {
      "image/png": "[encoded data removed]",
      "text/plain": [
       "<Figure size 640x480 with 2 Axes>"
      ]
     },
     "metadata": {},
     "output_type": "display_data"
    }
   ],
   "source": [
    "import pandas as pd\n",
    "from sklearn.feature_extraction.text import CountVectorizer\n",
    "from sklearn.feature_extraction.text import TfidfVectorizer\n",
    "from sklearn.feature_extraction.text import HashingVectorizer\n",
    "from sklearn.linear_model import LogisticRegression\n",
    "from sklearn.metrics import accuracy_score\n",
    "from sklearn.model_selection import train_test_split\n",
    "%matplotlib inline\n",
    "from sklearn.metrics import ConfusionMatrixDisplay as cmd\n",
    "from sklearn.metrics import classification_report\n",
    "import os\n",
    "\n",
    "# here you can try use different vectorization methods (Attention! uncomment the\n",
    "# method you want to test, and comment out the other methods)\n",
    "#-*-*-*-*-*-*chose different vectorization-*-*-*-*-*-*\n",
    "\n",
    "#(1) CountVectorizer\n",
    "#vectorizer = CountVectorizer(ngram_range=(1, 2), #stop_words='english', min_df=20)\n",
    "\n",
    "#(2) #HashingVectorizer\n",
    "vectorizer = HashingVectorizer(ngram_range=(1, 2), n_features=200)\n",
    "\n",
    "#(3)TfidfVectorizer\n",
    "# vectorizer = TfidfVectorizer(\n",
    "#     min_df=20,\n",
    "#     norm='l2',\n",
    "#     smooth_idf=True,\n",
    "#     use_idf=True,\n",
    "#     ngram_range=(1, 2),\n",
    "#     stop_words='english'\n",
    "#     )\n",
    "\n",
    "#-*-*-*-*-*-*chose different vectorization-*-*-*-*-*-*\n",
    "x = df['Text']\n",
    "y = df['Sentiment']\n",
    "x_train, x_test, y_train, y_test = train_test_split(x, y, test_size=0.2, random_state=0)\n",
    "\n",
    "# apply the vectorizers\n",
    "x_train_vectorized = vectorizer.fit_transform(x_train)\n",
    "x_test_vectorized = vectorizer.transform(x_test)\n",
    "\n",
    "model = LogisticRegression(max_iter=1000, random_state=0)\n",
    "model.fit(x_train_vectorized, y_train)\n",
    "\n",
    "y_pred = model.predict(x_test_vectorized)\n",
    "\n",
    "cmd.from_estimator(\n",
    "    model, \n",
    "    x_test_vectorized, \n",
    "    y_test, \n",
    "    display_labels=['Positive','Negative'], \n",
    "    cmap='Blues', \n",
    "    xticks_rotation='vertical'\n",
    "    )\n",
    "\n",
    "#calculate accuracy\n",
    "print('The accuracy of the model is: '+str(accuracy_score(y_test, y_pred)))\n",
    "\n",
    "\n",
    "print(\"Classification Report:\")\n",
    "print(classification_report(y_test, y_pred, target_names=['Positive', 'Negative']))"
   ]
  },
  {
   "cell_type": "markdown",
   "metadata": {},
   "source": [
    "3. TfidVectorizer"
   ]
  },
  {
   "cell_type": "code",
   "execution_count": 13,
   "metadata": {},
   "outputs": [
    {
     "name": "stdout",
     "output_type": "stream",
     "text": [
      "The accuracy of the model is: 0.9545454545454546\n",
      "Classification Report:\n",
      "              precision    recall  f1-score   support\n",
      "\n",
      "    Positive       0.94      0.98      0.96       211\n",
      "    Negative       0.97      0.93      0.95       207\n",
      "\n",
      "    accuracy                           0.95       418\n",
      "   macro avg       0.96      0.95      0.95       418\n",
      "weighted avg       0.96      0.95      0.95       418\n",
      "\n"
     ]
    },
    {
     "data": {
      "image/png": "[encoded data removed]",
      "text/plain": [
       "<Figure size 640x480 with 2 Axes>"
      ]
     },
     "metadata": {},
     "output_type": "display_data"
    }
   ],
   "source": [
    "import pandas as pd\n",
    "from sklearn.feature_extraction.text import CountVectorizer\n",
    "from sklearn.feature_extraction.text import TfidfVectorizer\n",
    "from sklearn.feature_extraction.text import HashingVectorizer\n",
    "from sklearn.linear_model import LogisticRegression\n",
    "from sklearn.metrics import accuracy_score\n",
    "from sklearn.model_selection import train_test_split\n",
    "%matplotlib inline\n",
    "from sklearn.metrics import ConfusionMatrixDisplay as cmd\n",
    "from sklearn.metrics import classification_report\n",
    "import os\n",
    "\n",
    "# here you can try use different vectorization methods (Attention! uncomment the\n",
    "# method you want to test, and comment out the other methods)\n",
    "#-*-*-*-*-*-*chose different vectorization-*-*-*-*-*-*\n",
    "\n",
    "#(1) CountVectorizer\n",
    "vectorizer = CountVectorizer(ngram_range=(1, 2), stop_words='english', min_df=20)\n",
    "\n",
    "#(2) #HashingVectorizer\n",
    "# vectorizer = HashingVectorizer(ngram_range=(1, 2), n_features=200)\n",
    "\n",
    "#(3)TfidfVectorizer\n",
    "vectorizer = TfidfVectorizer(\n",
    "    min_df=20,\n",
    "    norm='l2',\n",
    "    smooth_idf=True,\n",
    "    use_idf=True,\n",
    "    ngram_range=(1, 2),\n",
    "    stop_words='english'\n",
    "    )\n",
    "\n",
    "#-*-*-*-*-*-*chose different vectorization-*-*-*-*-*-*\n",
    "x = df['Text']\n",
    "y = df['Sentiment']\n",
    "x_train, x_test, y_train, y_test = train_test_split(x, y, test_size=0.2, random_state=0)\n",
    "\n",
    "# apply the vectorizers\n",
    "x_train_vectorized = vectorizer.fit_transform(x_train)\n",
    "x_test_vectorized = vectorizer.transform(x_test)\n",
    "\n",
    "model = LogisticRegression(max_iter=1000, random_state=0)\n",
    "model.fit(x_train_vectorized, y_train)\n",
    "\n",
    "y_pred = model.predict(x_test_vectorized)\n",
    "\n",
    "cmd.from_estimator(\n",
    "    model, \n",
    "    x_test_vectorized, \n",
    "    y_test, \n",
    "    display_labels=['Positive','Negative'], \n",
    "    cmap='Blues', \n",
    "    xticks_rotation='vertical'\n",
    "    )\n",
    "\n",
    "#calculate accuracy\n",
    "print('The accuracy of the model is: '+str(accuracy_score(y_test, y_pred)))\n",
    "\n",
    "\n",
    "print(\"Classification Report:\")\n",
    "print(classification_report(y_test, y_pred, target_names=['Positive', 'Negative']))"
   ]
  },
  {
   "cell_type": "markdown",
   "metadata": {},
   "source": [
    "Task 2 - Explore the performance of different text classification models"
   ]
  },
  {
   "cell_type": "markdown",
   "metadata": {},
   "source": [
    "Logistic Regression"
   ]
  },
  {
   "cell_type": "code",
   "execution_count": 15,
   "metadata": {
    "colab": {
     "base_uri": "https://localhost:8080/",
     "height": 516
    },
    "id": "q8SwgWSyDsFh",
    "outputId": "3da1f2af-7f70-4c80-baa5-e15f385cb0ff"
   },
   "outputs": [
    {
     "name": "stdout",
     "output_type": "stream",
     "text": [
      "Best Parameters: {'C': 0.1}\n",
      "The accuracy of the model is: 0.9521531100478469\n"
     ]
    },
    {
     "data": {
      "image/png": "[encoded data removed]",
      "text/plain": [
       "<Figure size 640x480 with 2 Axes>"
      ]
     },
     "metadata": {},
     "output_type": "display_data"
    }
   ],
   "source": [
    "import pandas as pd\n",
    "from sklearn.feature_extraction.text import CountVectorizer\n",
    "from sklearn.feature_extraction.text import TfidfVectorizer\n",
    "from sklearn.linear_model import LogisticRegression\n",
    "from sklearn.model_selection import train_test_split, GridSearchCV\n",
    "%matplotlib inline\n",
    "from sklearn.metrics import ConfusionMatrixDisplay as cmd\n",
    "from sklearn.neighbors import KNeighborsClassifier\n",
    "from sklearn.ensemble import RandomForestClassifier\n",
    "from xgboost import XGBClassifier\n",
    "from sklearn.svm import SVC\n",
    "from sklearn.naive_bayes import BernoulliNB\n",
    "import os\n",
    "\n",
    "vectorizer = TfidfVectorizer(\n",
    "    min_df=20,\n",
    "    norm='l2',\n",
    "    smooth_idf=True,\n",
    "    use_idf=True,\n",
    "    ngram_range=(1, 1),\n",
    "    stop_words='english'\n",
    "    )\n",
    "\n",
    "# split into train/test set\n",
    "x = df['Text']\n",
    "y = df['Sentiment']\n",
    "x_train, x_test, y_train, y_test = train_test_split(x, y, test_size=0.2, random_state=0)\n",
    "\n",
    "\n",
    "\n",
    "\n",
    "# apply the vectorizers\n",
    "x_train_vectorized = vectorizer.fit_transform(x_train)\n",
    "x_test_vectorized = vectorizer.transform(x_test)\n",
    "\n",
    "# here you can try use different models (Attention! uncomment the method you want\n",
    "# to test, and comment out the other methods)\n",
    "\n",
    "\n",
    "#-*-*-*-*-*-*chose different models-*-*-*-*-*-*\n",
    "\n",
    "#(1)LR\n",
    "model = LogisticRegression(max_iter=1000, random_state=0)\n",
    "\n",
    "#(2)KNN\n",
    "# model=KNeighborsClassifier()\n",
    "\n",
    "#(3)RF\n",
    "# model = RandomForestClassifier(random_state=0)\n",
    "\n",
    "#(4)XGBoost\n",
    "# model =  XGBClassifier()\n",
    "\n",
    "#(5)SVM\n",
    "# model= SVC(kernel=\"linear\")\n",
    "\n",
    "#(6)Naïve Bayes models\n",
    "# model=BernoulliNB()\n",
    "#-*-*-*-*-*-*chose different models-*-*-*-*-*-*\n",
    "\n",
    "#gridsearch\n",
    "param_grid = {\n",
    "    'C': [0.01, 0.1, 1, 10, 100],\n",
    "}\n",
    "grid_search = GridSearchCV(estimator=model, param_grid=param_grid, cv=5, scoring='accuracy', n_jobs=-1)\n",
    "grid_search.fit(x_train_vectorized, y_train)\n",
    "\n",
    "print(f\"Best Parameters: {grid_search.best_params_}\")\n",
    "\n",
    "model.fit(x_train_vectorized, y_train)\n",
    "cmd.from_estimator(\n",
    "    model, \n",
    "    x_test_vectorized, \n",
    "    y_test,\n",
    "    display_labels=['Positive','Negative'],\n",
    "    cmap='Blues', \n",
    "    xticks_rotation='vertical'\n",
    "    )\n",
    "\n",
    "#calculate accuracy\n",
    "print('The accuracy of the model is: '+str(accuracy_score(y_test,model.predict(x_test_vectorized))))"
   ]
  },
  {
   "cell_type": "markdown",
   "metadata": {},
   "source": [
    "KNN"
   ]
  },
  {
   "cell_type": "code",
   "execution_count": 17,
   "metadata": {},
   "outputs": [
    {
     "name": "stdout",
     "output_type": "stream",
     "text": [
      "Best Parameters: {'n_neighbors': 5, 'weights': 'distance'}\n",
      "The accuracy of the model is: 0.9090909090909091\n"
     ]
    },
    {
     "data": {
      "image/png": "[encoded data removed]",
      "text/plain": [
       "<Figure size 640x480 with 2 Axes>"
      ]
     },
     "metadata": {},
     "output_type": "display_data"
    }
   ],
   "source": [
    "import pandas as pd\n",
    "from sklearn.feature_extraction.text import CountVectorizer\n",
    "from sklearn.feature_extraction.text import TfidfVectorizer\n",
    "from sklearn.linear_model import LogisticRegression\n",
    "from sklearn.model_selection import train_test_split, GridSearchCV\n",
    "%matplotlib inline\n",
    "from sklearn.metrics import ConfusionMatrixDisplay as cmd\n",
    "from sklearn.neighbors import KNeighborsClassifier\n",
    "from sklearn.ensemble import RandomForestClassifier\n",
    "from xgboost import XGBClassifier\n",
    "from sklearn.svm import SVC\n",
    "from sklearn.naive_bayes import BernoulliNB\n",
    "import os\n",
    "\n",
    "vectorizer = TfidfVectorizer(\n",
    "    min_df=20,\n",
    "    norm='l2',\n",
    "    smooth_idf=True,\n",
    "    use_idf=True,\n",
    "    ngram_range=(1, 1),\n",
    "    stop_words='english'\n",
    "    )\n",
    "\n",
    "# split into train/test set\n",
    "x = df['Text']\n",
    "y = df['Sentiment']\n",
    "x_train, x_test, y_train, y_test = train_test_split(x, y, test_size=0.2, random_state=0)\n",
    "\n",
    "\n",
    "\n",
    "\n",
    "# apply the vectorizers\n",
    "x_train_vectorized = vectorizer.fit_transform(x_train)\n",
    "x_test_vectorized = vectorizer.transform(x_test)\n",
    "\n",
    "# here you can try use different models (Attention! uncomment the method you want\n",
    "# to test, and comment out the other methods)\n",
    "\n",
    "\n",
    "#-*-*-*-*-*-*chose different models-*-*-*-*-*-*\n",
    "\n",
    "#(1)LR\n",
    "#model = LogisticRegression(max_iter=1000, random_state=0)\n",
    "\n",
    "#(2)KNN\n",
    "model=KNeighborsClassifier()\n",
    "\n",
    "#(3)RF\n",
    "# model = RandomForestClassifier(random_state=0)\n",
    "\n",
    "#(4)XGBoost\n",
    "# model =  XGBClassifier()\n",
    "\n",
    "#(5)SVM\n",
    "# model= SVC(kernel=\"linear\")\n",
    "\n",
    "#(6)Naïve Bayes models\n",
    "# model=BernoulliNB()\n",
    "#-*-*-*-*-*-*chose different models-*-*-*-*-*-*\n",
    "\n",
    "#gridsearch\n",
    "param_grid = {\n",
    "    'n_neighbors': [2, 3, 5, 7, 9],\n",
    "    'weights': ['uniform', 'distance']\n",
    "}\n",
    "grid_search = GridSearchCV(estimator=model, param_grid=param_grid, cv=5, scoring='accuracy', n_jobs=-1)\n",
    "grid_search.fit(x_train_vectorized, y_train)\n",
    "\n",
    "print(f\"Best Parameters: {grid_search.best_params_}\")\n",
    "\n",
    "model = grid_search.best_estimator_\n",
    "cmd.from_estimator(\n",
    "    model, \n",
    "    x_test_vectorized, \n",
    "    y_test,\n",
    "    display_labels=['Positive','Negative'],\n",
    "    cmap='Blues', \n",
    "    xticks_rotation='vertical'\n",
    "    )\n",
    "\n",
    "#calculate accuracy\n",
    "print('The accuracy of the model is: '+str(accuracy_score(y_test,model.predict(x_test_vectorized))))"
   ]
  },
  {
   "cell_type": "markdown",
   "metadata": {},
   "source": [
    "RF"
   ]
  },
  {
   "cell_type": "code",
   "execution_count": 19,
   "metadata": {},
   "outputs": [
    {
     "name": "stdout",
     "output_type": "stream",
     "text": [
      "Best Parameters: {'bootstrap': False, 'max_depth': 30, 'min_samples_leaf': 4, 'min_samples_split': 2, 'n_estimators': 100}\n",
      "The accuracy of the model is: 0.9569377990430622\n"
     ]
    },
    {
     "data": {
      "image/png": "[encoded data removed]",
      "text/plain": [
       "<Figure size 640x480 with 2 Axes>"
      ]
     },
     "metadata": {},
     "output_type": "display_data"
    }
   ],
   "source": [
    "import pandas as pd\n",
    "from sklearn.feature_extraction.text import CountVectorizer\n",
    "from sklearn.feature_extraction.text import TfidfVectorizer\n",
    "from sklearn.linear_model import LogisticRegression\n",
    "from sklearn.model_selection import train_test_split, GridSearchCV\n",
    "%matplotlib inline\n",
    "from sklearn.metrics import ConfusionMatrixDisplay as cmd\n",
    "from sklearn.neighbors import KNeighborsClassifier\n",
    "from sklearn.ensemble import RandomForestClassifier\n",
    "from xgboost import XGBClassifier\n",
    "from sklearn.svm import SVC\n",
    "from sklearn.naive_bayes import BernoulliNB\n",
    "import os\n",
    "\n",
    "vectorizer = TfidfVectorizer(\n",
    "    min_df=20,\n",
    "    norm='l2',\n",
    "    smooth_idf=True,\n",
    "    use_idf=True,\n",
    "    ngram_range=(1, 1),\n",
    "    stop_words='english'\n",
    "    )\n",
    "\n",
    "# split into train/test set\n",
    "x = df['Text']\n",
    "y = df['Sentiment']\n",
    "x_train, x_test, y_train, y_test = train_test_split(x, y, test_size=0.2, random_state=0)\n",
    "\n",
    "# apply the vectorizers\n",
    "x_train_vectorized = vectorizer.fit_transform(x_train)\n",
    "x_test_vectorized = vectorizer.transform(x_test)\n",
    "\n",
    "# here you can try use different models (Attention! uncomment the method you want\n",
    "# to test, and comment out the other methods)\n",
    "\n",
    "\n",
    "#-*-*-*-*-*-*chose different models-*-*-*-*-*-*\n",
    "\n",
    "#(1)LR\n",
    "#model = LogisticRegression(max_iter=1000, random_state=0)\n",
    "\n",
    "#(2)KNN\n",
    "#model=KNeighborsClassifier()\n",
    "\n",
    "#(3)RF\n",
    "model = RandomForestClassifier(random_state=0)\n",
    "\n",
    "#(4)XGBoost\n",
    "# model =  XGBClassifier()\n",
    "\n",
    "#(5)SVM\n",
    "# model= SVC(kernel=\"linear\")\n",
    "\n",
    "#(6)Naïve Bayes models\n",
    "# model=BernoulliNB()\n",
    "#-*-*-*-*-*-*chose different models-*-*-*-*-*-*\n",
    "\n",
    "#gridsearch\n",
    "param_grid = {\n",
    "    'n_estimators': [100, 200, 300],\n",
    "    'max_depth': [None, 10, 20, 30],\n",
    "    'min_samples_split': [2, 5, 10],\n",
    "    'min_samples_leaf': [1, 2, 4],\n",
    "    'bootstrap': [True, False]\n",
    "}\n",
    "grid_search = GridSearchCV(estimator=model, param_grid=param_grid, cv=5, scoring='accuracy', n_jobs=-1)\n",
    "grid_search.fit(x_train_vectorized, y_train)\n",
    "\n",
    "print(f\"Best Parameters: {grid_search.best_params_}\")\n",
    "\n",
    "model = grid_search.best_estimator_\n",
    "cmd.from_estimator(\n",
    "    model, \n",
    "    x_test_vectorized, \n",
    "    y_test,\n",
    "    display_labels=['Positive','Negative'],\n",
    "    cmap='Blues', \n",
    "    xticks_rotation='vertical'\n",
    "    )\n",
    "\n",
    "#calculate accuracy\n",
    "print('The accuracy of the model is: '+str(accuracy_score(y_test,model.predict(x_test_vectorized))))"
   ]
  },
  {
   "cell_type": "markdown",
   "metadata": {},
   "source": [
    "XGBoost"
   ]
  },
  {
   "cell_type": "code",
   "execution_count": 24,
   "metadata": {},
   "outputs": [
    {
     "name": "stdout",
     "output_type": "stream",
     "text": [
      "Best Parameters: {'colsample_bytree': 0.8, 'learning_rate': 0.1, 'max_depth': 5, 'n_estimators': 200, 'subsample': 1.0}\n",
      "The accuracy of the model is: 0.9712918660287081\n"
     ]
    },
    {
     "data": {
      "image/png": "[encoded data removed]",
      "text/plain": [
       "<Figure size 640x480 with 2 Axes>"
      ]
     },
     "metadata": {},
     "output_type": "display_data"
    }
   ],
   "source": [
    "import pandas as pd\n",
    "from sklearn.feature_extraction.text import CountVectorizer\n",
    "from sklearn.feature_extraction.text import TfidfVectorizer\n",
    "from sklearn.linear_model import LogisticRegression\n",
    "from sklearn.model_selection import train_test_split, GridSearchCV\n",
    "%matplotlib inline\n",
    "from sklearn.metrics import ConfusionMatrixDisplay as cmd\n",
    "from sklearn.neighbors import KNeighborsClassifier\n",
    "from sklearn.ensemble import RandomForestClassifier\n",
    "from xgboost import XGBClassifier\n",
    "from sklearn.svm import SVC\n",
    "from sklearn.naive_bayes import BernoulliNB\n",
    "import os\n",
    "\n",
    "vectorizer = TfidfVectorizer(\n",
    "    min_df=20,\n",
    "    norm='l2',\n",
    "    smooth_idf=True,\n",
    "    use_idf=True,\n",
    "    ngram_range=(1, 1),\n",
    "    stop_words='english'\n",
    "    )\n",
    "\n",
    "# split into train/test set\n",
    "x = df['Text']\n",
    "y = df['Sentiment']\n",
    "x_train, x_test, y_train, y_test = train_test_split(x, y, test_size=0.2, random_state=0)\n",
    "\n",
    "# apply the vectorizers\n",
    "x_train_vectorized = vectorizer.fit_transform(x_train)\n",
    "x_test_vectorized = vectorizer.transform(x_test)\n",
    "\n",
    "# here you can try use different models (Attention! uncomment the method you want\n",
    "# to test, and comment out the other methods)\n",
    "\n",
    "\n",
    "#-*-*-*-*-*-*chose different models-*-*-*-*-*-*\n",
    "\n",
    "#(1)LR\n",
    "#model = LogisticRegression(max_iter=1000, random_state=0)\n",
    "\n",
    "#(2)KNN\n",
    "#model=KNeighborsClassifier()\n",
    "\n",
    "#(3)RF\n",
    "#model = RandomForestClassifier(random_state=0)\n",
    "\n",
    "#(4)XGBoost\n",
    "model =  XGBClassifier()\n",
    "\n",
    "#(5)SVM\n",
    "# model= SVC(kernel=\"linear\")\n",
    "\n",
    "#(6)Naïve Bayes models\n",
    "# model=BernoulliNB()\n",
    "#-*-*-*-*-*-*chose different models-*-*-*-*-*-*\n",
    "\n",
    "#gridsearch\n",
    "param_grid = {\n",
    "    'learning_rate': [0.01, 0.1, 0.2],\n",
    "    'n_estimators': [100, 200, 300],\n",
    "    'max_depth': [3, 5, 7],\n",
    "    'subsample': [0.8, 1.0],\n",
    "    'colsample_bytree': [0.8, 1.0]\n",
    "}\n",
    "grid_search = GridSearchCV(estimator=model, param_grid=param_grid, cv=5, scoring='accuracy', n_jobs=-1)\n",
    "grid_search.fit(x_train_vectorized, y_train)\n",
    "\n",
    "print(f\"Best Parameters: {grid_search.best_params_}\")\n",
    "\n",
    "model = grid_search.best_estimator_\n",
    "cmd.from_estimator(\n",
    "    model, \n",
    "    x_test_vectorized, \n",
    "    y_test,\n",
    "    display_labels=['Positive','Negative'],\n",
    "    cmap='Blues', \n",
    "    xticks_rotation='vertical'\n",
    "    )\n",
    "\n",
    "#calculate accuracy\n",
    "print('The accuracy of the model is: '+str(accuracy_score(y_test,model.predict(x_test_vectorized))))"
   ]
  },
  {
   "cell_type": "markdown",
   "metadata": {},
   "source": [
    "SVM"
   ]
  },
  {
   "cell_type": "code",
   "execution_count": 25,
   "metadata": {},
   "outputs": [
    {
     "name": "stdout",
     "output_type": "stream",
     "text": [
      "Best Parameters: {'C': 0.1, 'kernel': 'rbf'}\n",
      "The accuracy of the model is: 0.9593301435406698\n"
     ]
    },
    {
     "data": {
      "image/png": "[encoded data removed]",
      "text/plain": [
       "<Figure size 640x480 with 2 Axes>"
      ]
     },
     "metadata": {},
     "output_type": "display_data"
    }
   ],
   "source": [
    "import pandas as pd\n",
    "from sklearn.feature_extraction.text import CountVectorizer\n",
    "from sklearn.feature_extraction.text import TfidfVectorizer\n",
    "from sklearn.linear_model import LogisticRegression\n",
    "from sklearn.model_selection import train_test_split, GridSearchCV\n",
    "%matplotlib inline\n",
    "from sklearn.metrics import ConfusionMatrixDisplay as cmd\n",
    "from sklearn.neighbors import KNeighborsClassifier\n",
    "from sklearn.ensemble import RandomForestClassifier\n",
    "from xgboost import XGBClassifier\n",
    "from sklearn.svm import SVC\n",
    "from sklearn.naive_bayes import BernoulliNB\n",
    "import os\n",
    "\n",
    "vectorizer = TfidfVectorizer(\n",
    "    min_df=20,\n",
    "    norm='l2',\n",
    "    smooth_idf=True,\n",
    "    use_idf=True,\n",
    "    ngram_range=(1, 1),\n",
    "    stop_words='english'\n",
    "    )\n",
    "\n",
    "# split into train/test set\n",
    "x = df['Text']\n",
    "y = df['Sentiment']\n",
    "x_train, x_test, y_train, y_test = train_test_split(x, y, test_size=0.2, random_state=0)\n",
    "\n",
    "# apply the vectorizers\n",
    "x_train_vectorized = vectorizer.fit_transform(x_train)\n",
    "x_test_vectorized = vectorizer.transform(x_test)\n",
    "\n",
    "# here you can try use different models (Attention! uncomment the method you want\n",
    "# to test, and comment out the other methods)\n",
    "\n",
    "\n",
    "#-*-*-*-*-*-*chose different models-*-*-*-*-*-*\n",
    "\n",
    "#(1)LR\n",
    "#model = LogisticRegression(max_iter=1000, random_state=0)\n",
    "\n",
    "#(2)KNN\n",
    "#model=KNeighborsClassifier()\n",
    "\n",
    "#(3)RF\n",
    "#model = RandomForestClassifier(random_state=0)\n",
    "\n",
    "#(4)XGBoost\n",
    "#model =  XGBClassifier()\n",
    "\n",
    "#(5)SVM\n",
    "model= SVC(kernel=\"linear\")\n",
    "\n",
    "#(6)Naïve Bayes models\n",
    "# model=BernoulliNB()\n",
    "#-*-*-*-*-*-*chose different models-*-*-*-*-*-*\n",
    "\n",
    "#gridsearch\n",
    "param_grid = {\n",
    "    'kernel': ['linear', 'rbf'],\n",
    "    'C': [0.1, 1, 10]\n",
    "}\n",
    "grid_search = GridSearchCV(estimator=model, param_grid=param_grid, cv=5, scoring='accuracy', n_jobs=-1)\n",
    "grid_search.fit(x_train_vectorized, y_train)\n",
    "\n",
    "print(f\"Best Parameters: {grid_search.best_params_}\")\n",
    "\n",
    "model = grid_search.best_estimator_\n",
    "cmd.from_estimator(\n",
    "    model, \n",
    "    x_test_vectorized, \n",
    "    y_test,\n",
    "    display_labels=['Positive','Negative'],\n",
    "    cmap='Blues', \n",
    "    xticks_rotation='vertical'\n",
    "    )\n",
    "\n",
    "#calculate accuracy\n",
    "print('The accuracy of the model is: '+str(accuracy_score(y_test,model.predict(x_test_vectorized))))"
   ]
  },
  {
   "cell_type": "markdown",
   "metadata": {},
   "source": [
    "Naive Bayes"
   ]
  },
  {
   "cell_type": "code",
   "execution_count": 26,
   "metadata": {},
   "outputs": [
    {
     "name": "stdout",
     "output_type": "stream",
     "text": [
      "Best Parameters: {'alpha': 1.0}\n",
      "The accuracy of the model is: 0.9401913875598086\n"
     ]
    },
    {
     "data": {
      "image/png": "[encoded data removed]",
      "text/plain": [
       "<Figure size 640x480 with 2 Axes>"
      ]
     },
     "metadata": {},
     "output_type": "display_data"
    }
   ],
   "source": [
    "import pandas as pd\n",
    "from sklearn.feature_extraction.text import CountVectorizer\n",
    "from sklearn.feature_extraction.text import TfidfVectorizer\n",
    "from sklearn.linear_model import LogisticRegression\n",
    "from sklearn.model_selection import train_test_split, GridSearchCV\n",
    "%matplotlib inline\n",
    "from sklearn.metrics import ConfusionMatrixDisplay as cmd\n",
    "from sklearn.neighbors import KNeighborsClassifier\n",
    "from sklearn.ensemble import RandomForestClassifier\n",
    "from xgboost import XGBClassifier\n",
    "from sklearn.svm import SVC\n",
    "from sklearn.naive_bayes import BernoulliNB\n",
    "import os\n",
    "\n",
    "vectorizer = TfidfVectorizer(\n",
    "    min_df=20,\n",
    "    norm='l2',\n",
    "    smooth_idf=True,\n",
    "    use_idf=True,\n",
    "    ngram_range=(1, 1),\n",
    "    stop_words='english'\n",
    "    )\n",
    "\n",
    "# split into train/test set\n",
    "x = df['Text']\n",
    "y = df['Sentiment']\n",
    "x_train, x_test, y_train, y_test = train_test_split(x, y, test_size=0.2, random_state=0)\n",
    "\n",
    "# apply the vectorizers\n",
    "x_train_vectorized = vectorizer.fit_transform(x_train)\n",
    "x_test_vectorized = vectorizer.transform(x_test)\n",
    "\n",
    "# here you can try use different models (Attention! uncomment the method you want\n",
    "# to test, and comment out the other methods)\n",
    "\n",
    "\n",
    "#-*-*-*-*-*-*chose different models-*-*-*-*-*-*\n",
    "\n",
    "#(1)LR\n",
    "#model = LogisticRegression(max_iter=1000, random_state=0)\n",
    "\n",
    "#(2)KNN\n",
    "#model=KNeighborsClassifier()\n",
    "\n",
    "#(3)RF\n",
    "#model = RandomForestClassifier(random_state=0)\n",
    "\n",
    "#(4)XGBoost\n",
    "#model =  XGBClassifier()\n",
    "\n",
    "#(5)SVM\n",
    "#model= SVC(kernel=\"linear\")\n",
    "\n",
    "#(6)Naïve Bayes models\n",
    "model=BernoulliNB()\n",
    "#-*-*-*-*-*-*chose different models-*-*-*-*-*-*\n",
    "\n",
    "#gridsearch\n",
    "param_grid = {\n",
    "    'alpha': [0.01, 0.1, 0.5, 1.0]\n",
    "}\n",
    "grid_search = GridSearchCV(estimator=model, param_grid=param_grid, cv=5, scoring='accuracy', n_jobs=-1)\n",
    "grid_search.fit(x_train_vectorized, y_train)\n",
    "\n",
    "print(f\"Best Parameters: {grid_search.best_params_}\")\n",
    "\n",
    "model = grid_search.best_estimator_\n",
    "cmd.from_estimator(\n",
    "    model, \n",
    "    x_test_vectorized, \n",
    "    y_test,\n",
    "    display_labels=['Positive','Negative'],\n",
    "    cmap='Blues', \n",
    "    xticks_rotation='vertical'\n",
    "    )\n",
    "\n",
    "#calculate accuracy\n",
    "print('The accuracy of the model is: '+str(accuracy_score(y_test,model.predict(x_test_vectorized))))"
   ]
  }
 ],
 "metadata": {
  "colab": {
   "provenance": []
  },
  "kernelspec": {
   "display_name": "AH2179",
   "language": "python",
   "name": "python3"
  },
  "language_info": {
   "codemirror_mode": {
    "name": "ipython",
    "version": 3
   },
   "file_extension": ".py",
   "mimetype": "text/x-python",
   "name": "python",
   "nbconvert_exporter": "python",
   "pygments_lexer": "ipython3",
   "version": "3.11.13"
  }
 },
 "nbformat": 4,
 "nbformat_minor": 0
}
